{
  "metadata": {
    "language_info": {
      "codemirror_mode": {
        "name": "python",
        "version": 3
      },
      "file_extension": ".py",
      "mimetype": "text/x-python",
      "name": "python",
      "nbconvert_exporter": "python",
      "pygments_lexer": "ipython3",
      "version": "3.8"
    },
    "kernelspec": {
      "name": "python",
      "display_name": "Python (Pyodide)",
      "language": "python"
    }
  },
  "nbformat_minor": 4,
  "nbformat": 4,
  "cells": [
    {
      "cell_type": "code",
      "source": "import pandas as pd\nimport numpy as np\nimport collections\n",
      "metadata": {
        "trusted": true
      },
      "execution_count": 1,
      "outputs": []
    },
    {
      "cell_type": "code",
      "source": "data = pd.read_csv(\"RPL.csv\", encoding = 'utf-8', delimiter=';')\ndata.head()",
      "metadata": {
        "trusted": true
      },
      "execution_count": 2,
      "outputs": [
        {
          "execution_count": 2,
          "output_type": "execute_result",
          "data": {
            "text/plain": "   Часть   Год Команда Соперник  Минуты             Схема  Забито  Пропущено  \\\n0      1  2018   Ахмат  Арсенал      95  4-2-3-1 (100.0%)       2          0   \n1      1  2018   Ахмат   Енисей      94    3-5-2 (100.0%)       1          1   \n2      1  2018   Ахмат     ЦСКА      96    5-3-2 (79.58%)       0          2   \n3      1  2018   Ахмат       КС      94    5-3-2 (100.0%)       2          1   \n4      1  2018   Ахмат    Зенит      94    5-3-2 (93.08%)       0          1   \n\n   Удары  Удары в створ  Передачи  Точные передачи  Навесы  Точные навесы  \\\n0     19              8       422              361      10              3   \n1      7              2       347              247      10              2   \n2     11              3       375              291       9              1   \n3      8              2       455              372      14              6   \n4     11              3       440              357      16              4   \n\n   Владение    xG   PPDA Победитель Проигравший  \n0     52.64  3.19   6.36      Ахмат     Арсенал  \n1     37.84  0.19  19.44      Ничья       Ничья  \n2     46.41  1.02   9.97       ЦСКА       Ахмат  \n3     52.39  0.95   9.19      Ахмат          КС  \n4     48.79  0.62  15.52      Зенит       Ахмат  ",
            "text/html": "<div>\n<style scoped>\n    .dataframe tbody tr th:only-of-type {\n        vertical-align: middle;\n    }\n\n    .dataframe tbody tr th {\n        vertical-align: top;\n    }\n\n    .dataframe thead th {\n        text-align: right;\n    }\n</style>\n<table border=\"1\" class=\"dataframe\">\n  <thead>\n    <tr style=\"text-align: right;\">\n      <th></th>\n      <th>Часть</th>\n      <th>Год</th>\n      <th>Команда</th>\n      <th>Соперник</th>\n      <th>Минуты</th>\n      <th>Схема</th>\n      <th>Забито</th>\n      <th>Пропущено</th>\n      <th>Удары</th>\n      <th>Удары в створ</th>\n      <th>Передачи</th>\n      <th>Точные передачи</th>\n      <th>Навесы</th>\n      <th>Точные навесы</th>\n      <th>Владение</th>\n      <th>xG</th>\n      <th>PPDA</th>\n      <th>Победитель</th>\n      <th>Проигравший</th>\n    </tr>\n  </thead>\n  <tbody>\n    <tr>\n      <th>0</th>\n      <td>1</td>\n      <td>2018</td>\n      <td>Ахмат</td>\n      <td>Арсенал</td>\n      <td>95</td>\n      <td>4-2-3-1 (100.0%)</td>\n      <td>2</td>\n      <td>0</td>\n      <td>19</td>\n      <td>8</td>\n      <td>422</td>\n      <td>361</td>\n      <td>10</td>\n      <td>3</td>\n      <td>52.64</td>\n      <td>3.19</td>\n      <td>6.36</td>\n      <td>Ахмат</td>\n      <td>Арсенал</td>\n    </tr>\n    <tr>\n      <th>1</th>\n      <td>1</td>\n      <td>2018</td>\n      <td>Ахмат</td>\n      <td>Енисей</td>\n      <td>94</td>\n      <td>3-5-2 (100.0%)</td>\n      <td>1</td>\n      <td>1</td>\n      <td>7</td>\n      <td>2</td>\n      <td>347</td>\n      <td>247</td>\n      <td>10</td>\n      <td>2</td>\n      <td>37.84</td>\n      <td>0.19</td>\n      <td>19.44</td>\n      <td>Ничья</td>\n      <td>Ничья</td>\n    </tr>\n    <tr>\n      <th>2</th>\n      <td>1</td>\n      <td>2018</td>\n      <td>Ахмат</td>\n      <td>ЦСКА</td>\n      <td>96</td>\n      <td>5-3-2 (79.58%)</td>\n      <td>0</td>\n      <td>2</td>\n      <td>11</td>\n      <td>3</td>\n      <td>375</td>\n      <td>291</td>\n      <td>9</td>\n      <td>1</td>\n      <td>46.41</td>\n      <td>1.02</td>\n      <td>9.97</td>\n      <td>ЦСКА</td>\n      <td>Ахмат</td>\n    </tr>\n    <tr>\n      <th>3</th>\n      <td>1</td>\n      <td>2018</td>\n      <td>Ахмат</td>\n      <td>КС</td>\n      <td>94</td>\n      <td>5-3-2 (100.0%)</td>\n      <td>2</td>\n      <td>1</td>\n      <td>8</td>\n      <td>2</td>\n      <td>455</td>\n      <td>372</td>\n      <td>14</td>\n      <td>6</td>\n      <td>52.39</td>\n      <td>0.95</td>\n      <td>9.19</td>\n      <td>Ахмат</td>\n      <td>КС</td>\n    </tr>\n    <tr>\n      <th>4</th>\n      <td>1</td>\n      <td>2018</td>\n      <td>Ахмат</td>\n      <td>Зенит</td>\n      <td>94</td>\n      <td>5-3-2 (93.08%)</td>\n      <td>0</td>\n      <td>1</td>\n      <td>11</td>\n      <td>3</td>\n      <td>440</td>\n      <td>357</td>\n      <td>16</td>\n      <td>4</td>\n      <td>48.79</td>\n      <td>0.62</td>\n      <td>15.52</td>\n      <td>Зенит</td>\n      <td>Ахмат</td>\n    </tr>\n  </tbody>\n</table>\n</div>"
          },
          "metadata": {}
        }
      ]
    },
    {
      "cell_type": "code",
      "source": "RPL_2018_2019 = pd.read_csv('Team_Name_2018_2019.csv', encoding = 'utf-8')\n\nteamList = RPL_2018_2019['Team Name'].tolist()\nteamList",
      "metadata": {
        "tags": [],
        "trusted": true
      },
      "execution_count": 3,
      "outputs": [
        {
          "execution_count": 3,
          "output_type": "execute_result",
          "data": {
            "text/plain": "['Анжи',\n 'Ахмат',\n 'Зенит',\n 'Краснодар',\n 'Локомотив',\n 'Ростов',\n 'Рубин',\n 'Спартак',\n 'Урал',\n 'Уфа',\n 'ЦСКА']"
          },
          "metadata": {}
        }
      ]
    },
    {
      "cell_type": "code",
      "source": "deleteTeam = [x for x in pd.unique(data['Соперник']) if x not in teamList]\nfor name in deleteTeam:\n    data = data[data['Команда'] != name]\n    data = data[data['Соперник'] != name]\ndata = data.reset_index(drop=True)",
      "metadata": {
        "trusted": true
      },
      "execution_count": 4,
      "outputs": []
    },
    {
      "cell_type": "code",
      "source": "#Функция, возвращающая статистику команды за сезон \ndef GetSeasonTeamStat(team, season):\n    goalScored = 0 #Голов забито\n    goalAllowed = 0 #Голов пропущено\n\n    gameWin = 0 #Выиграно\n    gameDraw = 0 #Ничья\n    gameLost = 0 #Проиграно\n\n    totalScore = 0 #Количество набранных очков\n\n    matches = 0 #Количество сыгранных матчей\n    \n    xG = 0 #Ожидаемые голы\n    \n    shot = 0 #Удары\n    shotOnTarget = 0 #Удары в створ\n    \n    cross = 0 #Навесы\n    accurateCross = 0 #Точные навесы\n    \n    totalHandle = 0 #Владение мячом\n    averageHandle = 0 #Среднее владение мячом за матч\n    \n    Pass = 0 #Пасы\n    accuratePass = 0 #Точные пасы\n    \n    PPDA = 0 #Интенсивность прессинга в матче\n\n    for i in range(len(data)):\n        if (((data['Год'][i] == season) and (data['Команда'][i] == team) and (data['Часть'][i] == 2)) or ((data['Год'][i] == season-1) and (data['Команда'][i] == team) and (data['Часть'][i] == 1))):\n            matches += 1\n                \n            goalScored += data['Забито'][i]\n            goalAllowed += data['Пропущено'][i]\n\n            if (data['Забито'][i] > data['Пропущено'][i]):\n                totalScore += 3\n                gameWin += 1\n            elif (data['Забито'][i] < data['Пропущено'][i]):\n                gameLost +=1\n            else:\n                totalScore += 1\n                gameDraw += 1\n            \n            xG += data['xG'][i]\n            \n            shot += data['Удары'][i]\n            shotOnTarget += data['Удары в створ'][i]\n            \n            Pass += data['Передачи'][i]\n            accuratePass += data['Точные передачи'][i]\n            \n            totalHandle += data['Владение'][i]\n            \n            cross += data['Навесы'][i]\n            accurateCross += data['Точные навесы'][i]\n            \n            PPDA += data['PPDA'][i]\n\n    averageHandle = round(totalHandle/matches, 3) #Владение мячом в среднем за матч\n    \n    return [gameWin, gameDraw, gameLost, \n            goalScored, goalAllowed, totalScore, \n            round(xG, 3), round(PPDA, 3),\n            shot, shotOnTarget, \n            Pass, accuratePass,\n            cross, accurateCross,\n            round(averageHandle, 3)]",
      "metadata": {
        "trusted": true
      },
      "execution_count": 7,
      "outputs": []
    },
    {
      "cell_type": "code",
      "source": "GetSeasonTeamStat(\"Спартак\", 2018) #Статистика Спартака за сезон 2017/2018 ",
      "metadata": {
        "trusted": true
      },
      "execution_count": 8,
      "outputs": [
        {
          "execution_count": 8,
          "output_type": "execute_result",
          "data": {
            "text/plain": "[11, 4, 5, 39, 26, 37, 34.15, 178.24, 305, 115, 8978, 7364, 303, 119, 52.76]"
          },
          "metadata": {}
        }
      ]
    },
    {
      "cell_type": "code",
      "source": "returnNames = [\"Выиграно\", \"Ничья\", \"Проиграно\",\n               \"\\nГолов забито\", \"Голов пропущено\", \"\\nНабрано очков\",\n               \"\\nxG (за сезон)\", \"PPDA (за сезон)\",\n               \"\\nУдары\", \"Удары в створ\", \n               \"\\nПасы\", \"Точные пасы\",\n               \"\\nНавесы\", \"Точные навесы\",\n                \"\\nВладение (в среднем за матч)\"]\n\nfor i, n in zip(returnNames, GetSeasonTeamStat(\"Зенит\", 2018)):\n        print(i, n)",
      "metadata": {
        "trusted": true
      },
      "execution_count": 9,
      "outputs": [
        {
          "name": "stdout",
          "text": "Выиграно 8\nНичья 8\nПроиграно 4\n\nГолов забито 26\nГолов пропущено 16\n\nНабрано очков 32\n\nxG (за сезон) 29.74\nPPDA (за сезон) 166.74\n\nУдары 279\nУдары в створ 93\n\nПасы 8865\nТочные пасы 7268\n\nНавесы 461\nТочные навесы 138\n\nВладение (в среднем за матч) 55.016\n",
          "output_type": "stream"
        }
      ]
    },
    {
      "cell_type": "code",
      "source": "#Функция, возвращающая статистику всех команд за сезон\ndef GetSeasonAllTeamStat(season):\n    annual = collections.defaultdict(list)\n    for team in teamList:\n        team_vector = GetSeasonTeamStat(team, season)\n        annual[team] = team_vector\n    return annual",
      "metadata": {
        "trusted": true
      },
      "execution_count": 10,
      "outputs": []
    },
    {
      "cell_type": "code",
      "source": "#Получение тренировычных данных\ndef GetTrainingData(seasons):\n    totalNumGames = 0\n    for season in seasons:\n        annual = data[data['Год'] == season]\n        totalNumGames += len(annual.index)\n    numFeatures = len(GetSeasonTeamStat('Зенит', 2016)) #случайная команда для определения размерности\n    xTrain = np.zeros(( totalNumGames, numFeatures))\n    yTrain = np.zeros(( totalNumGames ))\n    indexCounter = 0\n    for season in seasons:\n        team_vectors = GetSeasonAllTeamStat(season)\n        annual = data[data['Год'] == season]\n        numGamesInYear = len(annual.index)\n        xTrainAnnual = np.zeros(( numGamesInYear, numFeatures))\n        yTrainAnnual = np.zeros(( numGamesInYear ))\n        counter = 0\n        for index, row in annual.iterrows():\n            team = row['Команда']\n            t_vector = team_vectors[team]\n            rivals = row['Соперник']\n            r_vector = team_vectors[rivals]\n            \n            diff = [a - b for a, b in zip(t_vector, r_vector)]\n            \n            if len(diff) != 0:\n                xTrainAnnual[counter] = diff\n            if team == row['Победитель']:\n                yTrainAnnual[counter] = 1\n            else: \n                yTrainAnnual[counter] = 0\n            counter += 1   \n        xTrain[indexCounter:numGamesInYear+indexCounter] = xTrainAnnual\n        yTrain[indexCounter:numGamesInYear+indexCounter] = yTrainAnnual\n        indexCounter += numGamesInYear\n    return xTrain, yTrain",
      "metadata": {
        "trusted": true
      },
      "execution_count": 11,
      "outputs": []
    },
    {
      "cell_type": "code",
      "source": "years = range(2016,2019)\nxTrain, yTrain = GetTrainingData(years)",
      "metadata": {
        "trusted": true
      },
      "execution_count": 12,
      "outputs": []
    },
    {
      "cell_type": "code",
      "source": "from sklearn.linear_model import LinearRegression",
      "metadata": {
        "trusted": true
      },
      "execution_count": 13,
      "outputs": []
    },
    {
      "cell_type": "code",
      "source": "model = LinearRegression()\nmodel.fit(xTrain, yTrain)\n",
      "metadata": {
        "trusted": true
      },
      "execution_count": 14,
      "outputs": [
        {
          "execution_count": 14,
          "output_type": "execute_result",
          "data": {
            "text/plain": "LinearRegression()",
            "text/html": "<style>#sk-container-id-1 {color: black;background-color: white;}#sk-container-id-1 pre{padding: 0;}#sk-container-id-1 div.sk-toggleable {background-color: white;}#sk-container-id-1 label.sk-toggleable__label {cursor: pointer;display: block;width: 100%;margin-bottom: 0;padding: 0.3em;box-sizing: border-box;text-align: center;}#sk-container-id-1 label.sk-toggleable__label-arrow:before {content: \"▸\";float: left;margin-right: 0.25em;color: #696969;}#sk-container-id-1 label.sk-toggleable__label-arrow:hover:before {color: black;}#sk-container-id-1 div.sk-estimator:hover label.sk-toggleable__label-arrow:before {color: black;}#sk-container-id-1 div.sk-toggleable__content {max-height: 0;max-width: 0;overflow: hidden;text-align: left;background-color: #f0f8ff;}#sk-container-id-1 div.sk-toggleable__content pre {margin: 0.2em;color: black;border-radius: 0.25em;background-color: #f0f8ff;}#sk-container-id-1 input.sk-toggleable__control:checked~div.sk-toggleable__content {max-height: 200px;max-width: 100%;overflow: auto;}#sk-container-id-1 input.sk-toggleable__control:checked~label.sk-toggleable__label-arrow:before {content: \"▾\";}#sk-container-id-1 div.sk-estimator input.sk-toggleable__control:checked~label.sk-toggleable__label {background-color: #d4ebff;}#sk-container-id-1 div.sk-label input.sk-toggleable__control:checked~label.sk-toggleable__label {background-color: #d4ebff;}#sk-container-id-1 input.sk-hidden--visually {border: 0;clip: rect(1px 1px 1px 1px);clip: rect(1px, 1px, 1px, 1px);height: 1px;margin: -1px;overflow: hidden;padding: 0;position: absolute;width: 1px;}#sk-container-id-1 div.sk-estimator {font-family: monospace;background-color: #f0f8ff;border: 1px dotted black;border-radius: 0.25em;box-sizing: border-box;margin-bottom: 0.5em;}#sk-container-id-1 div.sk-estimator:hover {background-color: #d4ebff;}#sk-container-id-1 div.sk-parallel-item::after {content: \"\";width: 100%;border-bottom: 1px solid gray;flex-grow: 1;}#sk-container-id-1 div.sk-label:hover label.sk-toggleable__label {background-color: #d4ebff;}#sk-container-id-1 div.sk-serial::before {content: \"\";position: absolute;border-left: 1px solid gray;box-sizing: border-box;top: 0;bottom: 0;left: 50%;z-index: 0;}#sk-container-id-1 div.sk-serial {display: flex;flex-direction: column;align-items: center;background-color: white;padding-right: 0.2em;padding-left: 0.2em;position: relative;}#sk-container-id-1 div.sk-item {position: relative;z-index: 1;}#sk-container-id-1 div.sk-parallel {display: flex;align-items: stretch;justify-content: center;background-color: white;position: relative;}#sk-container-id-1 div.sk-item::before, #sk-container-id-1 div.sk-parallel-item::before {content: \"\";position: absolute;border-left: 1px solid gray;box-sizing: border-box;top: 0;bottom: 0;left: 50%;z-index: -1;}#sk-container-id-1 div.sk-parallel-item {display: flex;flex-direction: column;z-index: 1;position: relative;background-color: white;}#sk-container-id-1 div.sk-parallel-item:first-child::after {align-self: flex-end;width: 50%;}#sk-container-id-1 div.sk-parallel-item:last-child::after {align-self: flex-start;width: 50%;}#sk-container-id-1 div.sk-parallel-item:only-child::after {width: 0;}#sk-container-id-1 div.sk-dashed-wrapped {border: 1px dashed gray;margin: 0 0.4em 0.5em 0.4em;box-sizing: border-box;padding-bottom: 0.4em;background-color: white;}#sk-container-id-1 div.sk-label label {font-family: monospace;font-weight: bold;display: inline-block;line-height: 1.2em;}#sk-container-id-1 div.sk-label-container {text-align: center;}#sk-container-id-1 div.sk-container {/* jupyter's `normalize.less` sets `[hidden] { display: none; }` but bootstrap.min.css set `[hidden] { display: none !important; }` so we also need the `!important` here to be able to override the default hidden behavior on the sphinx rendered scikit-learn.org. See: https://github.com/scikit-learn/scikit-learn/issues/21755 */display: inline-block !important;position: relative;}#sk-container-id-1 div.sk-text-repr-fallback {display: none;}</style><div id=\"sk-container-id-1\" class=\"sk-top-container\"><div class=\"sk-text-repr-fallback\"><pre>LinearRegression()</pre><b>In a Jupyter environment, please rerun this cell to show the HTML representation or trust the notebook. <br />On GitHub, the HTML representation is unable to render, please try loading this page with nbviewer.org.</b></div><div class=\"sk-container\" hidden><div class=\"sk-item\"><div class=\"sk-estimator sk-toggleable\"><input class=\"sk-toggleable__control sk-hidden--visually\" id=\"sk-estimator-id-1\" type=\"checkbox\" checked><label for=\"sk-estimator-id-1\" class=\"sk-toggleable__label sk-toggleable__label-arrow\">LinearRegression</label><div class=\"sk-toggleable__content\"><pre>LinearRegression()</pre></div></div></div></div></div>"
          },
          "metadata": {}
        }
      ]
    },
    {
      "cell_type": "code",
      "source": "def createGamePrediction(team1_vector, team2_vector):\n    diff = [[a - b for a, b in zip(team1_vector, team2_vector)]]\n    predictions = model.predict(diff)\n    return predictions",
      "metadata": {
        "trusted": true
      },
      "execution_count": 15,
      "outputs": []
    },
    {
      "cell_type": "code",
      "source": "team1_name = \"Зенит\"\nteam2_name = \"Спартак\"\n\nteam1_vector = GetSeasonTeamStat(team1_name, 2019)\nteam2_vector = GetSeasonTeamStat(team2_name, 2019)\n\nprint ('Вероятность, что выиграет ' + team1_name + ':', createGamePrediction(team1_vector, team2_vector))\nprint ('Вероятность, что выиграет ' + team2_name + ':', createGamePrediction(team2_vector, team1_vector))",
      "metadata": {
        "trusted": true
      },
      "execution_count": 16,
      "outputs": [
        {
          "name": "stdout",
          "text": "Вероятность, что выиграет Зенит: [0.47927615]\nВероятность, что выиграет Спартак: [0.24884885]\n",
          "output_type": "stream"
        }
      ]
    },
    {
      "cell_type": "code",
      "source": "for team_name in teamList:\n    team1_name = \"Зенит\"\n    team2_name = team_name\n    \n    if(team1_name != team2_name):\n        team1_vector = GetSeasonTeamStat(team1_name, 2019)\n        team2_vector = GetSeasonTeamStat(team2_name, 2019)\n        print(team1_name, createGamePrediction(team1_vector, team2_vector), \" - \", team2_name, createGamePrediction(team2_vector, team1_vector,))\n",
      "metadata": {
        "trusted": true
      },
      "execution_count": 17,
      "outputs": [
        {
          "name": "stdout",
          "text": "Зенит [0.57381018]  -  Анжи [0.15431482]\nЗенит [0.46626148]  -  Ахмат [0.26186352]\nЗенит [0.45497362]  -  Краснодар [0.27315138]\nЗенит [0.50079336]  -  Локомотив [0.22733164]\nЗенит [0.48530402]  -  Ростов [0.24282098]\nЗенит [0.50921775]  -  Рубин [0.21890725]\nЗенит [0.47927615]  -  Спартак [0.24884885]\nЗенит [0.61349263]  -  Урал [0.11463237]\nЗенит [0.49539111]  -  Уфа [0.23273389]\nЗенит [0.3636879]  -  ЦСКА [0.3644371]\n",
          "output_type": "stream"
        }
      ]
    }
  ]
}